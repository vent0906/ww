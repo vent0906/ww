{
  "cells": [
    {
      "cell_type": "markdown",
      "metadata": {
        "id": "view-in-github",
        "colab_type": "text"
      },
      "source": [
        "<a href=\"https://colab.research.google.com/github/vent0906/ww/blob/main/mnist_mlp_cnn_rnn_tutorial.ipynb\" target=\"_parent\"><img src=\"https://colab.research.google.com/assets/colab-badge.svg\" alt=\"Open In Colab\"/></a>"
      ]
    },
    {
      "cell_type": "markdown",
      "id": "586d378f",
      "metadata": {
        "id": "586d378f"
      },
      "source": [
        "\n",
        "# MNIST Digit Classification using MLP, CNN, and RNN\n",
        "\n",
        "This tutorial demonstrates three different neural network architectures to classify handwritten digits using the MNIST dataset.\n",
        "\n",
        "## Code Directory\n",
        "\n",
        "1. Load and Visualize MNIST Dataset  \n",
        "2. Train a Multilayer Perceptron (MLP)  \n",
        "3. Train a Convolutional Neural Network (CNN)  \n",
        "4. Train a Recurrent Neural Network (RNN)  \n",
        "5. Training Curves and Evaluation  \n"
      ]
    },
    {
      "cell_type": "markdown",
      "id": "6dbd1a7b",
      "metadata": {
        "id": "6dbd1a7b"
      },
      "source": [
        "### 1. Load and Visualize MNIST Dataset"
      ]
    },
    {
      "cell_type": "code",
      "execution_count": 1,
      "id": "1908ac25",
      "metadata": {
        "colab": {
          "base_uri": "https://localhost:8080/"
        },
        "id": "1908ac25",
        "outputId": "ea0c0bb4-84eb-4b94-8c07-8d683cf7899f"
      },
      "outputs": [
        {
          "output_type": "stream",
          "name": "stderr",
          "text": [
            "100%|██████████| 9.91M/9.91M [00:00<00:00, 17.7MB/s]\n",
            "100%|██████████| 28.9k/28.9k [00:00<00:00, 476kB/s]\n",
            "100%|██████████| 1.65M/1.65M [00:00<00:00, 4.41MB/s]\n",
            "100%|██████████| 4.54k/4.54k [00:00<00:00, 10.8MB/s]\n"
          ]
        }
      ],
      "source": [
        "\n",
        "# Import libraries\n",
        "import torch\n",
        "import torch.nn as nn\n",
        "import torch.optim as optim\n",
        "import torchvision.transforms as transforms\n",
        "import torchvision\n",
        "from torch.utils.data import DataLoader\n",
        "import matplotlib.pyplot as plt\n",
        "\n",
        "# Define transformations\n",
        "transform = transforms.Compose([transforms.ToTensor(), transforms.Normalize((0.1307,), (0.3081,))])\n",
        "\n",
        "# Load MNIST dataset\n",
        "train_dataset = torchvision.datasets.MNIST(root='./data', train=True, download=True, transform=transform)\n",
        "test_dataset = torchvision.datasets.MNIST(root='./data', train=False, download=True, transform=transform)\n",
        "\n",
        "# Create data loaders\n",
        "batch_size = 64\n",
        "train_loader = DataLoader(train_dataset, batch_size=batch_size, shuffle=True)\n",
        "test_loader = DataLoader(test_dataset, batch_size=batch_size, shuffle=False)\n"
      ]
    },
    {
      "cell_type": "markdown",
      "id": "21bc6206",
      "metadata": {
        "id": "21bc6206"
      },
      "source": [
        "### Explanation:\n",
        "We normalize the MNIST images and create data loaders for training and testing."
      ]
    },
    {
      "cell_type": "code",
      "execution_count": 2,
      "id": "8fc31fdc",
      "metadata": {
        "colab": {
          "base_uri": "https://localhost:8080/",
          "height": 407
        },
        "id": "8fc31fdc",
        "outputId": "f6b58e10-5416-4802-fa1d-1d7db29d5bbb"
      },
      "outputs": [
        {
          "output_type": "display_data",
          "data": {
            "text/plain": [
              "<Figure size 1000x400 with 6 Axes>"
            ],
            "image/png": "[encoded data removed]"
          },
          "metadata": {}
        }
      ],
      "source": [
        "\n",
        "# Visualize some training samples\n",
        "examples = enumerate(train_loader)\n",
        "batch_idx, (sample_images, sample_labels) = next(examples)\n",
        "\n",
        "plt.figure(figsize=(10, 4))\n",
        "for i in range(6):\n",
        "    plt.subplot(2, 3, i + 1)\n",
        "    plt.imshow(sample_images[i][0], cmap='gray')\n",
        "    plt.title(f\"Label: {sample_labels[i]}\")\n",
        "    plt.axis('off')\n",
        "plt.tight_layout()\n",
        "plt.show()\n"
      ]
    },
    {
      "cell_type": "markdown",
      "id": "35c29591",
      "metadata": {
        "id": "35c29591"
      },
      "source": [
        "### 2. Train a Multilayer Perceptron (MLP)"
      ]
    },
    {
      "cell_type": "code",
      "execution_count": 3,
      "id": "d07b715d",
      "metadata": {
        "colab": {
          "base_uri": "https://localhost:8080/"
        },
        "id": "d07b715d",
        "outputId": "d79fcf10-ac81-410e-ffb2-91bbd1fb5f34"
      },
      "outputs": [
        {
          "output_type": "stream",
          "name": "stdout",
          "text": [
            "Epoch [1/10], Loss: 0.2606\n",
            "Epoch [2/10], Loss: 0.1171\n",
            "Epoch [3/10], Loss: 0.0836\n",
            "Epoch [4/10], Loss: 0.0645\n",
            "Epoch [5/10], Loss: 0.0501\n",
            "Epoch [6/10], Loss: 0.0410\n",
            "Epoch [7/10], Loss: 0.0320\n",
            "Epoch [8/10], Loss: 0.0283\n",
            "Epoch [9/10], Loss: 0.0242\n",
            "Epoch [10/10], Loss: 0.0214\n",
            "SimpleMLP Test Accuracy: 97.62%\n"
          ]
        }
      ],
      "source": [
        "\n",
        "# Define SimpleMLP model\n",
        "class SimpleMLP(nn.Module):\n",
        "    def __init__(self, input_size, hidden_size, output_size):\n",
        "        super(SimpleMLP, self).__init__()\n",
        "        self.fc1 = nn.Linear(input_size, hidden_size)\n",
        "        self.relu = nn.ReLU()\n",
        "        self.fc2 = nn.Linear(hidden_size, output_size)\n",
        "\n",
        "    def forward(self, x):\n",
        "        x = x.view(x.size(0), -1)  # Flatten the image\n",
        "        x = self.fc1(x)\n",
        "        x = self.relu(x)\n",
        "        x = self.fc2(x)\n",
        "        return x\n",
        "\n",
        "# Model, criterion, optimizer\n",
        "input_size = 28 * 28\n",
        "hidden_size = 128\n",
        "output_size = 10\n",
        "learning_rate = 0.001\n",
        "num_epochs = 10\n",
        "\n",
        "mlp_net = SimpleMLP(input_size, hidden_size, output_size)\n",
        "mlp_loss_fn = nn.CrossEntropyLoss()\n",
        "mlp_opt = optim.Adam(mlp_net.parameters(), lr=learning_rate)\n",
        "\n",
        "# Train SimpleMLP\n",
        "mlp_loss_list = []\n",
        "for epoch in range(num_epochs):\n",
        "    running_loss = 0.0\n",
        "    for i, data in enumerate(train_loader):\n",
        "        inputs, labels = data\n",
        "        mlp_opt.zero_grad()\n",
        "        outputs = mlp_net(inputs)\n",
        "        loss = mlp_loss_fn(outputs, labels)\n",
        "        loss.backward()\n",
        "        mlp_opt.step()\n",
        "        running_loss += loss.item()\n",
        "    avg_loss = running_loss / len(train_loader)\n",
        "    mlp_loss_list.append(avg_loss)\n",
        "    print(f'Epoch [{epoch+1}/{num_epochs}], Loss: {avg_loss:.4f}')\n",
        "\n",
        "# Evaluate SimpleMLP\n",
        "correct = 0\n",
        "total = 0\n",
        "with torch.no_grad():\n",
        "    for data in test_loader:\n",
        "        images, labels = data\n",
        "        outputs = mlp_net(images)\n",
        "        _, predicted = torch.max(outputs.data, 1)\n",
        "        total += labels.size(0)\n",
        "        correct += (predicted == labels).sum().item()\n",
        "\n",
        "print(f'SimpleMLP Test Accuracy: {(100 * correct / total):.2f}%')\n"
      ]
    },
    {
      "cell_type": "markdown",
      "id": "d974798d",
      "metadata": {
        "id": "d974798d"
      },
      "source": [
        "### Explanation:\n",
        "We train a basic 2-layer MLP on flattened 784-dimensional vectors."
      ]
    },
    {
      "cell_type": "markdown",
      "id": "995ac71f",
      "metadata": {
        "id": "995ac71f"
      },
      "source": [
        "### 3. Train a Convolutional Neural Network (CNN)"
      ]
    },
    {
      "cell_type": "code",
      "execution_count": 4,
      "id": "2d55629a",
      "metadata": {
        "colab": {
          "base_uri": "https://localhost:8080/"
        },
        "id": "2d55629a",
        "outputId": "c67c4197-6f11-4b06-8b48-124049dea3f5"
      },
      "outputs": [
        {
          "output_type": "stream",
          "name": "stdout",
          "text": [
            "Epoch [1/10], Loss: 0.1302\n",
            "Epoch [2/10], Loss: 0.0417\n",
            "Epoch [3/10], Loss: 0.0273\n",
            "Epoch [4/10], Loss: 0.0211\n",
            "Epoch [5/10], Loss: 0.0163\n",
            "Epoch [6/10], Loss: 0.0116\n",
            "Epoch [7/10], Loss: 0.0098\n",
            "Epoch [8/10], Loss: 0.0073\n",
            "Epoch [9/10], Loss: 0.0093\n",
            "Epoch [10/10], Loss: 0.0045\n",
            "ConvNet Test Accuracy: 99.25%\n"
          ]
        }
      ],
      "source": [
        "\n",
        "# Define ConvNet\n",
        "class ConvNet(nn.Module):\n",
        "    def __init__(self):\n",
        "        super(ConvNet, self).__init__()\n",
        "        self.conv1 = nn.Conv2d(1, 32, kernel_size=3, padding=1)\n",
        "        self.relu = nn.ReLU()\n",
        "        self.maxpool = nn.MaxPool2d(2, 2)\n",
        "        self.conv2 = nn.Conv2d(32, 64, kernel_size=3, padding=1)\n",
        "        self.fc1 = nn.Linear(64 * 7 * 7, 128)\n",
        "        self.fc2 = nn.Linear(128, 10)\n",
        "\n",
        "    def forward(self, x):\n",
        "        x = self.conv1(x)\n",
        "        x = self.relu(x)\n",
        "        x = self.maxpool(x)\n",
        "        x = self.conv2(x)\n",
        "        x = self.relu(x)\n",
        "        x = self.maxpool(x)\n",
        "        x = x.view(x.size(0), -1)\n",
        "        x = self.fc1(x)\n",
        "        x = self.relu(x)\n",
        "        x = self.fc2(x)\n",
        "        return x\n",
        "\n",
        "cnn_net = ConvNet()\n",
        "cnn_loss_fn = nn.CrossEntropyLoss()\n",
        "cnn_opt = optim.Adam(cnn_net.parameters(), lr=learning_rate)\n",
        "\n",
        "cnn_loss_list = []\n",
        "for epoch in range(num_epochs):\n",
        "    running_loss = 0.0\n",
        "    for i, data in enumerate(train_loader):\n",
        "        inputs, labels = data\n",
        "        cnn_opt.zero_grad()\n",
        "        outputs = cnn_net(inputs)\n",
        "        loss = cnn_loss_fn(outputs, labels)\n",
        "        loss.backward()\n",
        "        cnn_opt.step()\n",
        "        running_loss += loss.item()\n",
        "    avg_loss = running_loss / len(train_loader)\n",
        "    cnn_loss_list.append(avg_loss)\n",
        "    print(f'Epoch [{epoch+1}/{num_epochs}], Loss: {avg_loss:.4f}')\n",
        "\n",
        "correct = 0\n",
        "total = 0\n",
        "with torch.no_grad():\n",
        "    for data in test_loader:\n",
        "        images, labels = data\n",
        "        outputs = cnn_net(images)\n",
        "        _, predicted = torch.max(outputs.data, 1)\n",
        "        total += labels.size(0)\n",
        "        correct += (predicted == labels).sum().item()\n",
        "\n",
        "print(f'ConvNet Test Accuracy: {(100 * correct / total):.2f}%')\n"
      ]
    },
    {
      "cell_type": "markdown",
      "id": "f10a94d6",
      "metadata": {
        "id": "f10a94d6"
      },
      "source": [
        "### Explanation:\n",
        "CNN uses local filters and pooling to learn spatial features of images."
      ]
    },
    {
      "cell_type": "markdown",
      "id": "f5549996",
      "metadata": {
        "id": "f5549996"
      },
      "source": [
        "### 4. Train a Recurrent Neural Network (RNN)"
      ]
    },
    {
      "cell_type": "code",
      "execution_count": 10,
      "id": "926b22fe",
      "metadata": {
        "colab": {
          "base_uri": "https://localhost:8080/"
        },
        "id": "926b22fe",
        "outputId": "5d39b329-8dc8-424f-bf7e-0937abce133c"
      },
      "outputs": [
        {
          "output_type": "stream",
          "name": "stdout",
          "text": [
            "Epoch [1/10], Loss: 0.5842\n",
            "Epoch [2/10], Loss: 0.2458\n",
            "Epoch [3/10], Loss: 0.1857\n",
            "Epoch [4/10], Loss: 0.1666\n",
            "Epoch [5/10], Loss: 0.1463\n",
            "Epoch [6/10], Loss: 0.1260\n",
            "Epoch [7/10], Loss: 0.1165\n",
            "Epoch [8/10], Loss: 0.1201\n",
            "Epoch [9/10], Loss: 0.1112\n",
            "Epoch [10/10], Loss: 0.1180\n",
            "SequenceRNN Test Accuracy: 97.15%\n"
          ]
        }
      ],
      "source": [
        "\n",
        "# Define RNN model with proper PyTorch RNN class\n",
        "class SequenceRNN(nn.Module):\n",
        "    def __init__(self, input_size, hidden_size, num_layers, num_classes):\n",
        "        super(SequenceRNN, self).__init__()\n",
        "        self.hidden_size = hidden_size\n",
        "        self.num_layers = num_layers\n",
        "        self.rnn = nn.RNN(input_size, hidden_size, num_layers, batch_first=True)\n",
        "        self.fc = nn.Linear(hidden_size, num_classes)\n",
        "\n",
        "    def forward(self, x):\n",
        "        h0 = torch.zeros(self.num_layers, x.size(0), self.hidden_size).to(x.device)\n",
        "        out, _ = self.rnn(x, h0)\n",
        "        out = self.fc(out[:, -1, :])\n",
        "        return out\n",
        "\n",
        "rnn_net = SequenceRNN(28, hidden_size, 2, output_size)\n",
        "rnn_loss_fn = nn.CrossEntropyLoss()\n",
        "rnn_opt = optim.Adam(rnn_net.parameters(), lr=learning_rate)\n",
        "\n",
        "rnn_loss_list = []\n",
        "for epoch in range(num_epochs):\n",
        "    running_loss = 0.0\n",
        "    for i, (images, labels) in enumerate(train_loader):\n",
        "        images = images.squeeze(1)\n",
        "        rnn_opt.zero_grad()\n",
        "        outputs = rnn_net(images)\n",
        "        loss = rnn_loss_fn(outputs, labels)\n",
        "        loss.backward()\n",
        "        rnn_opt.step()\n",
        "        running_loss += loss.item()\n",
        "    avg_loss = running_loss / len(train_loader)\n",
        "    rnn_loss_list.append(avg_loss)\n",
        "    print(f'Epoch [{epoch+1}/{num_epochs}], Loss: {avg_loss:.4f}')\n",
        "\n",
        "correct = 0\n",
        "total = 0\n",
        "with torch.no_grad():\n",
        "    for images, labels in test_loader:\n",
        "        images = images.squeeze(1)\n",
        "        outputs = rnn_net(images)\n",
        "        _, predicted = torch.max(outputs.data, 1)\n",
        "        total += labels.size(0)\n",
        "        correct += (predicted == labels).sum().item()\n",
        "\n",
        "print(f'SequenceRNN Test Accuracy: {(100 * correct / total):.2f}%')\n"
      ]
    },
    {
      "cell_type": "markdown",
      "id": "05d835f2",
      "metadata": {
        "id": "05d835f2"
      },
      "source": [
        "### Explanation:\n",
        "RNN processes images as sequences of 28 time steps with 28 input features each."
      ]
    },
    {
      "cell_type": "markdown",
      "id": "ed3111be",
      "metadata": {
        "id": "ed3111be"
      },
      "source": [
        "### 5. Training Loss Comparison"
      ]
    },
    {
      "cell_type": "code",
      "execution_count": 11,
      "id": "26b39a17",
      "metadata": {
        "colab": {
          "base_uri": "https://localhost:8080/",
          "height": 472
        },
        "id": "26b39a17",
        "outputId": "55038832-aaf1-4b39-e51d-220108c7b411"
      },
      "outputs": [
        {
          "output_type": "display_data",
          "data": {
            "text/plain": [
              "<Figure size 640x480 with 1 Axes>"
            ],
            "image/png": "[encoded data removed]"
          },
          "metadata": {}
        }
      ],
      "source": [
        "\n",
        "plt.plot(range(1, num_epochs+1), mlp_loss_list, label='SimpleMLP')\n",
        "plt.plot(range(1, num_epochs+1), cnn_loss_list, label='ConvNet')\n",
        "plt.plot(range(1, num_epochs+1), rnn_loss_list, label='SequenceRNN')\n",
        "plt.title(\"Training Loss per Epoch\")\n",
        "plt.xlabel(\"Epoch\")\n",
        "plt.ylabel(\"Loss\")\n",
        "plt.legend()\n",
        "plt.grid(True)\n",
        "plt.show()\n"
      ]
    }
  ],
  "metadata": {
    "colab": {
      "provenance": [],
      "include_colab_link": true
    },
    "language_info": {
      "name": "python"
    },
    "kernelspec": {
      "name": "python3",
      "display_name": "Python 3"
    }
  },
  "nbformat": 4,
  "nbformat_minor": 5
}